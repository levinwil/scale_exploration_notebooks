{
 "cells": [
  {
   "cell_type": "code",
   "execution_count": 1,
   "id": "3bbd9b11",
   "metadata": {},
   "outputs": [],
   "source": [
    "with open('/Users/willlevine/Downloads/harry_potter.txt', 'r') as file:\n",
    "    data = file.read().replace('\\n', '').replace(\"- J.K. Rowling \", '')"
   ]
  },
  {
   "cell_type": "code",
   "execution_count": 2,
   "id": "32c9634d",
   "metadata": {},
   "outputs": [],
   "source": [
    "sentences = data.split(\".\")"
   ]
  },
  {
   "cell_type": "code",
   "execution_count": 3,
   "id": "414bcac5",
   "metadata": {},
   "outputs": [
    {
     "data": {
      "text/plain": [
       "6178"
      ]
     },
     "execution_count": 3,
     "metadata": {},
     "output_type": "execute_result"
    }
   ],
   "source": [
    "len(sentences)"
   ]
  },
  {
   "cell_type": "code",
   "execution_count": 4,
   "id": "5f96771c",
   "metadata": {},
   "outputs": [],
   "source": [
    "suspicious_sentences = []\n",
    "suspicious_sentences.append(\"Bob entered his password incorrectly.\") \n",
    "suspicious_sentences.append(\"Bob mistyped his password many times.\")\n",
    "suspicious_sentences.append(\"Bob repeatedly entered the wrong password\")\n",
    "suspicious_sentences.append(\"Incorrect passwords were typed trying to get into Bob's account\")\n",
    "suspicious_sentences.append(\"There were security issues with Bob's account\")"
   ]
  },
  {
   "cell_type": "code",
   "execution_count": 5,
   "id": "d0fc7a84",
   "metadata": {},
   "outputs": [
    {
     "name": "stderr",
     "output_type": "stream",
     "text": [
      "/Users/willlevine/miniconda3/lib/python3.8/site-packages/tqdm/auto.py:22: TqdmWarning: IProgress not found. Please update jupyter and ipywidgets. See https://ipywidgets.readthedocs.io/en/stable/user_install.html\n",
      "  from .autonotebook import tqdm as notebook_tqdm\n"
     ]
    }
   ],
   "source": [
    "from sentence_transformers import SentenceTransformer"
   ]
  },
  {
   "cell_type": "code",
   "execution_count": 6,
   "id": "03f83c22",
   "metadata": {},
   "outputs": [],
   "source": [
    "spacing = int(len(sentences) / len(suspicious_sentences))\n",
    "for i in range(len(suspicious_sentences)):\n",
    "    sentences[i * spacing] = suspicious_sentences[i]"
   ]
  },
  {
   "cell_type": "code",
   "execution_count": 7,
   "id": "a0f41969",
   "metadata": {},
   "outputs": [],
   "source": [
    "model = SentenceTransformer(\"all-mpnet-base-v2\")"
   ]
  },
  {
   "cell_type": "code",
   "execution_count": 8,
   "id": "91319a55",
   "metadata": {},
   "outputs": [
    {
     "name": "stderr",
     "output_type": "stream",
     "text": [
      "100%|███████████████████████████████████████████████████████████████████████████████████████████████████████████████████████████████████████████████████████████████████████████████████████████████████████████████████████████████████████████| 96/96 [01:23<00:00,  1.15it/s]\n"
     ]
    }
   ],
   "source": [
    "from tqdm import tqdm\n",
    "sentence_embeddings = []\n",
    "for i in tqdm(range(int(len(sentences) / 64))):\n",
    "    sentence_embeddings.extend(model.encode(sentences[i * 64 : (i + 1) * 64]))"
   ]
  },
  {
   "cell_type": "code",
   "execution_count": 241,
   "id": "6248582e",
   "metadata": {},
   "outputs": [],
   "source": [
    "query_sentence = \"incorrect password and security issues.\"\n",
    "query_embedding = model.encode(query_sentence)"
   ]
  },
  {
   "cell_type": "code",
   "execution_count": 242,
   "id": "a5017aca",
   "metadata": {},
   "outputs": [],
   "source": [
    "reduced_sentence_embeddings, reduced_query_embedding = np.array(sentence_embeddings), query_embedding"
   ]
  },
  {
   "cell_type": "code",
   "execution_count": 243,
   "id": "18fd80ef",
   "metadata": {},
   "outputs": [],
   "source": [
    "from sklearn.neighbors import KDTree\n",
    "tree = KDTree(reduced_sentence_embeddings)"
   ]
  },
  {
   "cell_type": "code",
   "execution_count": 244,
   "id": "e5bac198",
   "metadata": {},
   "outputs": [],
   "source": [
    "from numpy import dot\n",
    "from numpy.linalg import norm\n",
    "similarities = [dot(reduced_sentence_embeddings[i], reduced_query_embedding) / (norm(reduced_sentence_embeddings[i]) * norm(reduced_query_embedding)) for i in range(len(sentence_embeddings))]"
   ]
  },
  {
   "cell_type": "code",
   "execution_count": 245,
   "id": "7adaa753",
   "metadata": {},
   "outputs": [
    {
     "data": {
      "text/plain": [
       "Text(0.5, 0, 'Threat Score')"
      ]
     },
     "execution_count": 245,
     "metadata": {},
     "output_type": "execute_result"
    },
    {
     "data": {
      "image/png": "[encoded data removed]",
      "text/plain": [
       "<Figure size 640x480 with 1 Axes>"
      ]
     },
     "metadata": {},
     "output_type": "display_data"
    }
   ],
   "source": [
    "import matplotlib.pyplot as plt\n",
    "plt.hist(similarities, bins = 100)\n",
    "plt.xlabel(\"Threat Score\")"
   ]
  },
  {
   "cell_type": "code",
   "execution_count": 246,
   "id": "f5b38f1f",
   "metadata": {},
   "outputs": [],
   "source": [
    "similar_sentence_indices = np.where(np.array(similarities) > .4)[0]"
   ]
  },
  {
   "cell_type": "code",
   "execution_count": 247,
   "id": "36744544",
   "metadata": {},
   "outputs": [
    {
     "data": {
      "text/plain": [
       "array(['Bob entered his password incorrectly.',\n",
       "       'Bob repeatedly entered the wrong password',\n",
       "       ' “Thank goodness you found me! I’ve been out here for hours, I couldn’t remember the new password to get in to bed',\n",
       "       ' The password’s ‘Pig snout’ but it won’t help you now, the Fat Lady’s gone off somewhere',\n",
       "       \"Incorrect passwords were typed trying to get into Bob's account\",\n",
       "       \"There were security issues with Bob's account\"], dtype='<U1185')"
      ]
     },
     "execution_count": 247,
     "metadata": {},
     "output_type": "execute_result"
    }
   ],
   "source": [
    "np.array(sentences)[similar_sentence_indices]"
   ]
  },
  {
   "cell_type": "code",
   "execution_count": 248,
   "id": "31cc192a",
   "metadata": {},
   "outputs": [],
   "source": [
    "_, similar_sentence_neighbor_indices = tree.query(np.array(sentence_embeddings)[similar_sentence_indices], k = 5)"
   ]
  },
  {
   "cell_type": "code",
   "execution_count": 249,
   "id": "df100860",
   "metadata": {},
   "outputs": [
    {
     "data": {
      "text/plain": [
       "array([2470, 3705, 1235, 4940,    0, 1235, 3705, 4940, 2608, 2470, 3054,\n",
       "       3364, 3052, 3451, 3899, 3034,    0, 2470, 4940, 1235, 3705, 1235,\n",
       "          0, 2470])"
      ]
     },
     "execution_count": 249,
     "metadata": {},
     "output_type": "execute_result"
    }
   ],
   "source": [
    "np.concatenate(np.array(similar_sentence_neighbor_indices)[:, 1:])"
   ]
  },
  {
   "cell_type": "code",
   "execution_count": null,
   "id": "12e3d18b",
   "metadata": {},
   "outputs": [],
   "source": [
    "similar_sentence_neighbors = np.unique(np.array(sentences)[np.concatenate(np.array(similar_sentence_neighbor_indices))])"
   ]
  },
  {
   "cell_type": "code",
   "execution_count": 253,
   "id": "d1997de6",
   "metadata": {},
   "outputs": [
    {
     "data": {
      "text/plain": [
       "array([' The Fat Lady had gone on a nighttime visit and Hermione was locked out of Gryffindor Tower',\n",
       "       ' The password’s ‘Pig snout’ but it won’t help you now, the Fat Lady’s gone off somewhere',\n",
       "       ' “Password?” she said', ' “Pig snout,” they said and entered',\n",
       "       ' “Thank goodness you found me! I’ve been out here for hours, I couldn’t remember the new password to get in to bed',\n",
       "       ' “The key’s in the lock,” Harry muttered',\n",
       "       ' “Who’s there?” squawked the Fat Lady',\n",
       "       'Bob entered his password incorrectly.',\n",
       "       'Bob mistyped his password many times.',\n",
       "       'Bob repeatedly entered the wrong password',\n",
       "       \"Incorrect passwords were typed trying to get into Bob's account\",\n",
       "       \"There were security issues with Bob's account\"], dtype='<U1185')"
      ]
     },
     "execution_count": 253,
     "metadata": {},
     "output_type": "execute_result"
    }
   ],
   "source": [
    "similar_sentence_neighbors"
   ]
  }
 ],
 "metadata": {
  "kernelspec": {
   "display_name": "Python 3 (ipykernel)",
   "language": "python",
   "name": "python3"
  },
  "language_info": {
   "codemirror_mode": {
    "name": "ipython",
    "version": 3
   },
   "file_extension": ".py",
   "mimetype": "text/x-python",
   "name": "python",
   "nbconvert_exporter": "python",
   "pygments_lexer": "ipython3",
   "version": "3.8.13"
  }
 },
 "nbformat": 4,
 "nbformat_minor": 5
}
